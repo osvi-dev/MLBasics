{
 "cells": [
  {
   "cell_type": "markdown",
   "id": "b7a27be4",
   "metadata": {},
   "source": [
    "# ¿Qué son las tuplas?"
   ]
  },
  {
   "cell_type": "markdown",
   "id": "17224ec4",
   "metadata": {},
   "source": [
    "<h2> Una tupla es una colección ordenada de elementos, y cada elemento puede ser de cualquier tipo (números, cadenas, objetos, etc.). Se definen utilizando paréntesis y separando los elementos por comas.</h2>"
   ]
  },
  {
   "cell_type": "code",
   "execution_count": 1,
   "id": "b976f068",
   "metadata": {},
   "outputs": [
    {
     "name": "stdout",
     "output_type": "stream",
     "text": [
      "(1, 2, 3, 4, 5, 1, 2, 1, 1)\n",
      "(1, 2, 3)\n",
      "(1, 2, 3, 4)\n"
     ]
    }
   ],
   "source": [
    "tupla = (1,2,3,4,5,1,2,1,1)\n",
    "tupla2 = tuple([1,2,3])\n",
    "tupla3 = 1,2,3,4\n",
    "print(tupla)\n",
    "print(tupla2)\n",
    "print(tupla3)"
   ]
  },
  {
   "cell_type": "code",
   "execution_count": 2,
   "id": "eb72eaac",
   "metadata": {},
   "outputs": [
    {
     "name": "stdout",
     "output_type": "stream",
     "text": [
      "1\n"
     ]
    }
   ],
   "source": [
    "primer_valor_tupla = tupla[0]\n",
    "print(primer_valor_tupla)"
   ]
  },
  {
   "cell_type": "markdown",
   "id": "9ac3f2f7",
   "metadata": {},
   "source": [
    "<h3>Que pasa si quiero cambiar algun dato de mi tupla?</h3>"
   ]
  },
  {
   "cell_type": "code",
   "execution_count": 3,
   "id": "e8bea814",
   "metadata": {},
   "outputs": [
    {
     "ename": "TypeError",
     "evalue": "'tuple' object does not support item assignment",
     "output_type": "error",
     "traceback": [
      "\u001b[1;31m---------------------------------------------------------------------------\u001b[0m",
      "\u001b[1;31mTypeError\u001b[0m                                 Traceback (most recent call last)",
      "\u001b[1;32m~\\AppData\\Local\\Temp\\ipykernel_13224\\2349405849.py\u001b[0m in \u001b[0;36m<module>\u001b[1;34m\u001b[0m\n\u001b[1;32m----> 1\u001b[1;33m \u001b[0mtupla\u001b[0m\u001b[1;33m[\u001b[0m\u001b[1;36m0\u001b[0m\u001b[1;33m]\u001b[0m \u001b[1;33m=\u001b[0m \u001b[1;34m'Hola Hundo'\u001b[0m\u001b[1;33m\u001b[0m\u001b[1;33m\u001b[0m\u001b[0m\n\u001b[0m",
      "\u001b[1;31mTypeError\u001b[0m: 'tuple' object does not support item assignment"
     ]
    }
   ],
   "source": [
    "tupla[0] = 'Hola Hundo'"
   ]
  },
  {
   "cell_type": "code",
   "execution_count": 4,
   "id": "8e90ac49",
   "metadata": {},
   "outputs": [
    {
     "name": "stdout",
     "output_type": "stream",
     "text": [
      "1\n"
     ]
    }
   ],
   "source": [
    "primer_valor_tupla = tupla[0]\n",
    "print(primer_valor_tupla)"
   ]
  },
  {
   "cell_type": "markdown",
   "id": "28bd58a5",
   "metadata": {},
   "source": [
    "# Metodos mas utilizados para las tuplas"
   ]
  },
  {
   "cell_type": "code",
   "execution_count": 5,
   "id": "34d54a5b",
   "metadata": {},
   "outputs": [
    {
     "name": "stdout",
     "output_type": "stream",
     "text": [
      "4\n",
      "2\n",
      "9\n",
      "[1, 1, 1, 1, 2, 2, 3, 4, 5]\n"
     ]
    }
   ],
   "source": [
    "\n",
    "# count -> devulve el numero de veces que aparece un valor\n",
    "print(tupla.count(1))\n",
    "\n",
    "# index -> devulve el indice dee la primera apraricion del valor en la tupla\n",
    "print(tupla.index(3))\n",
    "\n",
    "# len -> retornla la longitud de la tupla\n",
    "print(len(tupla))\n",
    "\n",
    "#sorted -> retorna la tupla ordenada\n",
    "tupla_ordenada = sorted(tupla)\n",
    "print(tupla_ordenada)"
   ]
  },
  {
   "cell_type": "markdown",
   "id": "81f1ffec",
   "metadata": {},
   "source": [
    "# Listas"
   ]
  },
  {
   "cell_type": "code",
   "execution_count": 6,
   "id": "ab857fd3",
   "metadata": {},
   "outputs": [
    {
     "name": "stdout",
     "output_type": "stream",
     "text": [
      "[1, 2, 3, 4] [1, 2, 3]\n"
     ]
    }
   ],
   "source": [
    "lista = [1,2,3,4]\n",
    "\n",
    "lista2 = list([1,2,3])\n",
    "\n",
    "print(lista, lista2)"
   ]
  },
  {
   "cell_type": "markdown",
   "id": "29553b33",
   "metadata": {},
   "source": [
    "# Métodos mas utilizados para las listas"
   ]
  },
  {
   "cell_type": "code",
   "execution_count": 7,
   "id": "ba825ad8",
   "metadata": {},
   "outputs": [
    {
     "name": "stdout",
     "output_type": "stream",
     "text": [
      "[1, 2, 3, 4, 5]\n",
      "[1, 2, 3, 4]\n",
      "[1, 2, 'Bienvenidos al curso de python', 3, 4]\n",
      "[1, 2, 'Bienvenidos al curso de python', 3, 4, 3]\n",
      "[1, 2, 'Bienvenidos al curso de python', 4, 3]\n",
      "[1, 2, 4, 3]\n",
      "[]\n"
     ]
    }
   ],
   "source": [
    "# append -> agrega un valor a la lista\n",
    "lista.append(5)\n",
    "print(lista)\n",
    "# pop -> elimina el ultimo valor de la lista\n",
    "lista.pop()\n",
    "print(lista)\n",
    "\n",
    "#insert -> inserta un valor en el indice que quieras\n",
    "lista.insert(2, 'Bienvenidos al curso de python')\n",
    "print(lista)\n",
    "\n",
    "#remove -> elimina el primer valor que encuentre del elemento pasado\n",
    "lista.append(3)\n",
    "print(lista)\n",
    "lista.remove(3)\n",
    "print(lista)\n",
    "\n",
    "# pop -> remueve un elemento en el index dado\n",
    "lista.pop(2)\n",
    "print(lista)\n",
    "\n",
    "#clear -> eliminar todos los elementos de la lista\n",
    "lista.clear()\n",
    "print(lista)\n",
    "\n",
    "# count -> cuenta todos los elemetos de x que le hayas pasado\n",
    "# sort -> ordena los elementos de la lista.\n",
    "# reverse -> invierte los elementos de la lista\n",
    "# copy -> copia todos los elementos de la lista"
   ]
  },
  {
   "cell_type": "markdown",
   "id": "6a5ae333",
   "metadata": {},
   "source": [
    "# Sets"
   ]
  },
  {
   "cell_type": "markdown",
   "id": "294cf3e0",
   "metadata": {},
   "source": [
    "<h3> un conjunto (set) es una colección desordenada de elementos únicos. La principal característica de un conjunto es que no puede contener duplicados, lo que significa que cada elemento dentro de un conjunto es único.</h3>"
   ]
  },
  {
   "cell_type": "code",
   "execution_count": 8,
   "id": "cffa9067",
   "metadata": {},
   "outputs": [
    {
     "name": "stdout",
     "output_type": "stream",
     "text": [
      "{1, 2, 3, 4}\n",
      "{1, 2, 3, 4, 5, ('Hola', 'mundo')}\n"
     ]
    }
   ],
   "source": [
    "set1 = {1,2,3,4,4,4,4,4}\n",
    "set2 = set([1,2,3,4,5,5,5,5,('Hola', 'mundo'), ('Hola', 'mundo')]) \n",
    "print(set1)\n",
    "print(set2)"
   ]
  },
  {
   "cell_type": "markdown",
   "id": "e8f79057",
   "metadata": {},
   "source": [
    "# Metodos mas importantes de los sets\n"
   ]
  },
  {
   "cell_type": "code",
   "execution_count": 19,
   "id": "18a158ea",
   "metadata": {},
   "outputs": [
    {
     "name": "stdout",
     "output_type": "stream",
     "text": [
      "{1, 2, 3, 4, 5}\n",
      "{1, 2, 3, 4}\n",
      "Union -> {1, 2, 3, 4, 5, ('Hola', 'mundo')}\n",
      "Interseccion {1, 2, 3, 4}\n",
      "Diferencia {('Hola', 'mundo'), 5}\n"
     ]
    }
   ],
   "source": [
    "# add -> agrega un valor al final de mi set\n",
    "set1.add(5)\n",
    "print(set1)\n",
    "# remove -> elimina el valor pasado\n",
    "set1.remove(5)\n",
    "print(set1)\n",
    "\n",
    "# Se pueren hacer operaciones de conjuntos entre los sets\n",
    "union = set1 | set2 # equivalente -> union()\n",
    "print(\"Union ->\", union)\n",
    "\n",
    "interseccion = set1 & set2 # -> es equivalente a intersection()\n",
    "print(\"Interseccion\", interseccion)\n",
    "\n",
    "\n",
    "diferencia = set2 - set1 # difference()\n",
    "\n",
    "print(\"Diferencia\", diferencia)\n"
   ]
  },
  {
   "cell_type": "markdown",
   "id": "2489bac1",
   "metadata": {},
   "source": [
    "<h1> En Python, un diccionario es una estructura de datos que se utiliza para almacenar colecciones de elementos de manera desordenada, pero a diferencia de las listas y las tuplas que están indexadas por un rango numérico, los diccionarios están indexados por claves</h1>"
   ]
  },
  {
   "cell_type": "code",
   "execution_count": 24,
   "id": "1da13c06",
   "metadata": {},
   "outputs": [
    {
     "name": "stdout",
     "output_type": "stream",
     "text": [
      "{'nombre': 'Osvaldo', 'edad': 21, 'ciudad': 'Chilchoranch'}\n"
     ]
    }
   ],
   "source": [
    "mi_diccionario = {\n",
    "    \"nombre\": \"Osvaldo\",\n",
    "    \"edad\": 21,\n",
    "    \"ciudad\": \"Chilchoranch\"\n",
    "}\n",
    "print(mi_diccionario)"
   ]
  },
  {
   "cell_type": "code",
   "execution_count": 22,
   "id": "2638e132",
   "metadata": {},
   "outputs": [
    {
     "name": "stdout",
     "output_type": "stream",
     "text": [
      "{'Nombre': 'Osvaldo', 'edad': 21}\n"
     ]
    }
   ],
   "source": [
    "# Creando un diccionario con la palabra dict\n",
    "diccionario = dict(Nombre='Osvaldo', edad=21)\n",
    "print(diccionario)"
   ]
  },
  {
   "cell_type": "code",
   "execution_count": 37,
   "id": "5589d804",
   "metadata": {},
   "outputs": [
    {
     "name": "stdout",
     "output_type": "stream",
     "text": [
      "Jose Osvaldo\n",
      "Jose Osvaldo\n"
     ]
    }
   ],
   "source": [
    "# Como accedeer a los valores?\n",
    "print(mi_diccionario['nombre']) \n",
    "print(mi_diccionario.get('nombre'))"
   ]
  },
  {
   "cell_type": "code",
   "execution_count": 26,
   "id": "79660d5d",
   "metadata": {},
   "outputs": [
    {
     "name": "stdout",
     "output_type": "stream",
     "text": [
      "Jose Osvaldo\n"
     ]
    }
   ],
   "source": [
    "# Cambiar el valor \n",
    "mi_diccionario['nombre'] = 'Jose Osvaldo'\n",
    "\n",
    "print(mi_diccionario['nombre'])"
   ]
  },
  {
   "cell_type": "code",
   "execution_count": 32,
   "id": "1114eb0b",
   "metadata": {},
   "outputs": [
    {
     "name": "stdout",
     "output_type": "stream",
     "text": [
      "El elemento se encuentra en el diccionario\n"
     ]
    }
   ],
   "source": [
    "# Verificar si una clave existe dentro de un diccionario\n",
    "if \"nombre\" in mi_diccionario: # estamos buscando clave\n",
    "    print('La clave se encuentra en el diccionario')\n",
    "else:\n",
    "    print('La clave no se encuentra en el diccionario')"
   ]
  },
  {
   "cell_type": "code",
   "execution_count": 36,
   "id": "575055c2",
   "metadata": {},
   "outputs": [
    {
     "name": "stdout",
     "output_type": "stream",
     "text": [
      "{'nombre': 'Jose Osvaldo', 'edad': 21}\n"
     ]
    }
   ],
   "source": [
    "# Eliminar un elemento de un diccionario\n",
    "del mi_diccionario['ciudad']\n",
    "print(mi_diccionario)"
   ]
  },
  {
   "cell_type": "code",
   "execution_count": 38,
   "id": "c0167fda",
   "metadata": {},
   "outputs": [],
   "source": [
    "# agregar \n",
    "mi_diccionario['rancho'] = 'chilchoranch'"
   ]
  },
  {
   "cell_type": "code",
   "execution_count": 39,
   "id": "c529b3c2",
   "metadata": {},
   "outputs": [
    {
     "name": "stdout",
     "output_type": "stream",
     "text": [
      "{'nombre': 'Jose Osvaldo', 'edad': 21, 'rancho': 'chilchoranch'}\n"
     ]
    }
   ],
   "source": [
    "print(mi_diccionario)"
   ]
  },
  {
   "cell_type": "code",
   "execution_count": 45,
   "id": "f09b33c0",
   "metadata": {},
   "outputs": [
    {
     "name": "stdout",
     "output_type": "stream",
     "text": [
      "{'nombre': 'Jose Osvaldo', 'edad': 21, 'rancho': 'chilchoranch', 'es seguro': True}\n"
     ]
    }
   ],
   "source": [
    "# Otra menra de agregar\n",
    "mi_diccionario.update({'es seguro':True})\n",
    "print(mi_diccionario)"
   ]
  },
  {
   "cell_type": "code",
   "execution_count": 46,
   "id": "bfe85be3",
   "metadata": {},
   "outputs": [
    {
     "name": "stdout",
     "output_type": "stream",
     "text": [
      "{'nombre': 'Jose Osvaldo', 'edad': 21, 'rancho': 'chilchoranch'}\n"
     ]
    }
   ],
   "source": [
    "# eliminar elementos\n",
    "mi_diccionario.pop('es seguro')\n",
    "print(mi_diccionario)"
   ]
  },
  {
   "cell_type": "code",
   "execution_count": 47,
   "id": "8cf00d1b",
   "metadata": {},
   "outputs": [
    {
     "name": "stdout",
     "output_type": "stream",
     "text": [
      "dict_keys(['nombre', 'edad', 'rancho'])\n",
      "dict_values(['Jose Osvaldo', 21, 'chilchoranch'])\n",
      "dict_items([('nombre', 'Jose Osvaldo'), ('edad', 21), ('rancho', 'chilchoranch')])\n"
     ]
    }
   ],
   "source": [
    "claves = mi_diccionario.keys()  # Devuelve una vista de las claves\n",
    "valores = mi_diccionario.values()  # Devuelve una vista de los valores\n",
    "items = mi_diccionario.items()  # Devuelve una vista de los pares clave-valor como [('nombre', 'Jose Osvaldo'), ('edad', 21)]\n",
    "\n",
    "print(claves)\n",
    "print(valores)\n",
    "print(items)"
   ]
  },
  {
   "cell_type": "code",
   "execution_count": 48,
   "id": "a154d012",
   "metadata": {},
   "outputs": [
    {
     "name": "stdout",
     "output_type": "stream",
     "text": [
      "nombre\n",
      "edad\n",
      "rancho\n"
     ]
    }
   ],
   "source": [
    "# Como iterar dentro de un diccionario\n",
    "for clave in mi_diccionario:\n",
    "    print(clave)"
   ]
  },
  {
   "cell_type": "code",
   "execution_count": 50,
   "id": "b6393fa3",
   "metadata": {},
   "outputs": [
    {
     "name": "stdout",
     "output_type": "stream",
     "text": [
      "Clave ->  nombre  Valor ->  Jose Osvaldo\n",
      "Clave ->  edad  Valor ->  21\n",
      "Clave ->  rancho  Valor ->  chilchoranch\n"
     ]
    }
   ],
   "source": [
    "# Acedder a la clave y al vlaor juntos\n",
    "for clave, valor in mi_diccionario.items():\n",
    "    print('Clave -> ', clave, ' Valor -> ', valor)"
   ]
  },
  {
   "cell_type": "code",
   "execution_count": null,
   "id": "01ceb474",
   "metadata": {},
   "outputs": [],
   "source": [
    "# Crear diccionarios a partir de listas\n",
    "preguntas = ['Como estas?', 'Que tal tu dia? ']\n",
    "respuestas = ['bien, bien', 'Mal, a mi siempre me va mal']"
   ]
  },
  {
   "cell_type": "code",
   "execution_count": null,
   "id": "350ebf51",
   "metadata": {},
   "outputs": [],
   "source": []
  },
  {
   "cell_type": "code",
   "execution_count": null,
   "id": "162d296e",
   "metadata": {},
   "outputs": [],
   "source": []
  }
 ],
 "metadata": {
  "kernelspec": {
   "display_name": "Python 3 (ipykernel)",
   "language": "python",
   "name": "python3"
  },
  "language_info": {
   "codemirror_mode": {
    "name": "ipython",
    "version": 3
   },
   "file_extension": ".py",
   "mimetype": "text/x-python",
   "name": "python",
   "nbconvert_exporter": "python",
   "pygments_lexer": "ipython3",
   "version": "3.9.13"
  },
  "varInspector": {
   "cols": {
    "lenName": 16,
    "lenType": 16,
    "lenVar": 40
   },
   "kernels_config": {
    "python": {
     "delete_cmd_postfix": "",
     "delete_cmd_prefix": "del ",
     "library": "var_list.py",
     "varRefreshCmd": "print(var_dic_list())"
    },
    "r": {
     "delete_cmd_postfix": ") ",
     "delete_cmd_prefix": "rm(",
     "library": "var_list.r",
     "varRefreshCmd": "cat(var_dic_list()) "
    }
   },
   "types_to_exclude": [
    "module",
    "function",
    "builtin_function_or_method",
    "instance",
    "_Feature"
   ],
   "window_display": false
  }
 },
 "nbformat": 4,
 "nbformat_minor": 5
}
