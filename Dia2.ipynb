{
 "cells": [
  {
   "cell_type": "markdown",
   "id": "fd2e9b2b",
   "metadata": {},
   "source": [
    "# Condicionales"
   ]
  },
  {
   "cell_type": "code",
   "execution_count": 21,
   "id": "26008f6f",
   "metadata": {},
   "outputs": [
    {
     "name": "stdout",
     "output_type": "stream",
     "text": [
      "20 es igual que 20\n",
      "eres mayor de edad\n"
     ]
    }
   ],
   "source": [
    "# Para poder hacer una condiocnal en pythpn es similar\n",
    "# a los demas lenguajes de programacion\n",
    "a = 20\n",
    "b = 20\n",
    "edad = 18\n",
    "if a > b:\n",
    "    print(f'{a} es mayor que {b}')\n",
    "elif a == b:\n",
    "    print('{} es igual que {}'.format(a,b))\n",
    "else:\n",
    "    print(f'{b} es mayor que {a}')\n",
    "    \n",
    "operador_ternario = 'eres mayor de edad' if edad >= 18 else 'Aun eres un bebe'\n",
    "\n",
    "print(operador_ternario)"
   ]
  },
  {
   "cell_type": "markdown",
   "id": "599a39dd",
   "metadata": {},
   "source": [
    " # Ciclos y bucles"
   ]
  },
  {
   "cell_type": "code",
   "execution_count": 9,
   "id": "8a0a24ab",
   "metadata": {},
   "outputs": [
    {
     "name": "stdout",
     "output_type": "stream",
     "text": [
      "1, 2, 3, 4, 5, 6, 7, 8, 9, "
     ]
    }
   ],
   "source": [
    "# estructura basica de un ciclo\n",
    "\n",
    "for i in range(10):\n",
    "    print(i)\n",
    "\n"
   ]
  },
  {
   "cell_type": "code",
   "execution_count": 3,
   "id": "cf7eee64",
   "metadata": {},
   "outputs": [
    {
     "name": "stdout",
     "output_type": "stream",
     "text": [
      "0\n",
      "1\n",
      "2\n",
      "3\n",
      "4\n",
      "5\n",
      "6\n",
      "7\n",
      "8\n",
      "9\n"
     ]
    }
   ],
   "source": [
    "# Otra manera de estribirlo\n",
    "for i in range(1,10):\n",
    "    print(i, end=', ') "
   ]
  },
  {
   "cell_type": "code",
   "execution_count": 14,
   "id": "4fe501be",
   "metadata": {},
   "outputs": [
    {
     "name": "stdout",
     "output_type": "stream",
     "text": [
      "0\n",
      "2\n",
      "4\n",
      "6\n",
      "8\n",
      "10\n"
     ]
    }
   ],
   "source": [
    "# ¿Qué pasa si quiero dar saltos de 2 en 2?\n",
    "for i in range(0,11,2):\n",
    "    print(i)"
   ]
  },
  {
   "cell_type": "code",
   "execution_count": 22,
   "id": "22bc06b0",
   "metadata": {
    "scrolled": true
   },
   "outputs": [
    {
     "name": "stdout",
     "output_type": "stream",
     "text": [
      "Hola\n",
      "Hola\n",
      "Hola\n",
      "Hola\n",
      "Hola\n",
      "Hola\n",
      "Hola\n",
      "Hola\n",
      "Hola\n",
      "Hola\n"
     ]
    }
   ],
   "source": [
    "for _ in range(10):\n",
    "    print(\"Hola\")"
   ]
  },
  {
   "cell_type": "code",
   "execution_count": 16,
   "id": "9bdac6e4",
   "metadata": {},
   "outputs": [
    {
     "name": "stdout",
     "output_type": "stream",
     "text": [
      "Omg he llegado a 10\n"
     ]
    }
   ],
   "source": [
    "# Ciclo\n",
    "i = 0\n",
    "while True:\n",
    "    if i == 10:\n",
    "        print(f'Omg he llegado a {i}')\n",
    "        break\n",
    "    i += 1"
   ]
  },
  {
   "cell_type": "code",
   "execution_count": 18,
   "id": "ae021769",
   "metadata": {},
   "outputs": [
    {
     "name": "stdout",
     "output_type": "stream",
     "text": [
      "0\n",
      "1\n",
      "2\n",
      "3\n",
      "4\n",
      "5\n",
      "6\n",
      "7\n",
      "8\n",
      "9\n",
      "10\n"
     ]
    }
   ],
   "source": [
    "i = 0\n",
    "while i <= 10:\n",
    "    print(i)\n",
    "    i +=1"
   ]
  },
  {
   "cell_type": "markdown",
   "id": "e40d5cf5",
   "metadata": {},
   "source": [
    "# Funciones en python "
   ]
  },
  {
   "cell_type": "markdown",
   "id": "dcdc6954",
   "metadata": {},
   "source": [
    "## Una funcion esta definida por la palabra reservada \"def\" lo que nos quiere decir que vendra el nombre de la funcion "
   ]
  },
  {
   "cell_type": "code",
   "execution_count": 1,
   "id": "30534e77",
   "metadata": {
    "scrolled": false
   },
   "outputs": [
    {
     "name": "stdout",
     "output_type": "stream",
     "text": [
      "Hola\n",
      "Hola Osvaldo\n"
     ]
    },
    {
     "data": {
      "text/plain": [
       "'Hola Osvaldo'"
      ]
     },
     "execution_count": 1,
     "metadata": {},
     "output_type": "execute_result"
    }
   ],
   "source": [
    "def saludar():\n",
    "    print('Hola')\n",
    "    \n",
    "def saludar_con_nombre(nombre:str):\n",
    "    print(f'Hola {nombre}')\n",
    "    \n",
    "def saludar_con_retorno(nombre) -> str:\n",
    "    return f'Hola {nombre}'\n",
    "\n",
    "nombre = 'Osvaldo'\n",
    "\n",
    "saludar()\n",
    "saludar_con_nombre(nombre)\n",
    "saludar_con_retorno(nombre)\n",
    "# ¿Por qué me sale con comillas?"
   ]
  },
  {
   "cell_type": "markdown",
   "id": "dc50402f",
   "metadata": {},
   "source": [
    "# Clases en Python"
   ]
  },
  {
   "cell_type": "code",
   "execution_count": 17,
   "id": "4d841cf5",
   "metadata": {},
   "outputs": [],
   "source": [
    "class Carro():\n",
    "    # Constructor\n",
    "    def __init__(self, marca:str, color:str, km:float, drogas:bool):\n",
    "        self.marca = marca\n",
    "        self.color = color\n",
    "        self.km = km \n",
    "        self._drogas = drogas \n",
    "        \n",
    "    @property\n",
    "    def drogas(self):\n",
    "        return self._drogas\n",
    "    \n",
    "    def setDrogas(self, drogas:bool):\n",
    "        self._drogas = drogas\n",
    "        "
   ]
  },
  {
   "cell_type": "code",
   "execution_count": 18,
   "id": "aad93f58",
   "metadata": {},
   "outputs": [
    {
     "name": "stdout",
     "output_type": "stream",
     "text": [
      "Sturu\n"
     ]
    }
   ],
   "source": [
    "carrito = Carro('Sturu', 'Azul', 1000.5, True)\n",
    "print(carrito.marca)"
   ]
  },
  {
   "cell_type": "code",
   "execution_count": 15,
   "id": "88a9cd0d",
   "metadata": {},
   "outputs": [
    {
     "name": "stdout",
     "output_type": "stream",
     "text": [
      "Su carro tiene drogas? True\n"
     ]
    }
   ],
   "source": [
    "print(f'Su carro tiene drogas? {carrito.drogas}')"
   ]
  },
  {
   "cell_type": "markdown",
   "id": "eb2656a2",
   "metadata": {},
   "source": [
    "# Ejercicio propuesto\n",
    " <h2>crear una funcion que reciba un numero y lo convierta en binario, y viceversa</h2>  "
   ]
  }
 ],
 "metadata": {
  "celltoolbar": "Raw Cell Format",
  "kernelspec": {
   "display_name": "Python 3 (ipykernel)",
   "language": "python",
   "name": "python3"
  },
  "language_info": {
   "codemirror_mode": {
    "name": "ipython",
    "version": 3
   },
   "file_extension": ".py",
   "mimetype": "text/x-python",
   "name": "python",
   "nbconvert_exporter": "python",
   "pygments_lexer": "ipython3",
   "version": "3.9.13"
  },
  "varInspector": {
   "cols": {
    "lenName": 16,
    "lenType": 16,
    "lenVar": 40
   },
   "kernels_config": {
    "python": {
     "delete_cmd_postfix": "",
     "delete_cmd_prefix": "del ",
     "library": "var_list.py",
     "varRefreshCmd": "print(var_dic_list())"
    },
    "r": {
     "delete_cmd_postfix": ") ",
     "delete_cmd_prefix": "rm(",
     "library": "var_list.r",
     "varRefreshCmd": "cat(var_dic_list()) "
    }
   },
   "types_to_exclude": [
    "module",
    "function",
    "builtin_function_or_method",
    "instance",
    "_Feature"
   ],
   "window_display": false
  }
 },
 "nbformat": 4,
 "nbformat_minor": 5
}
